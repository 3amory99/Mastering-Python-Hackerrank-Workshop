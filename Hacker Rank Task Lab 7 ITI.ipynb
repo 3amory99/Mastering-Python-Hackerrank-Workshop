{
 "cells": [
  {
   "cell_type": "markdown",
   "id": "79db02f1",
   "metadata": {},
   "source": [
    "<html>\n",
    "<body>\n",
    "<div align=\"center\">\n",
    "<h3>Prepared by Omar Mahmoud</h3>\n",
    "    \n",
    "<h1>Hacker Rank Task Lab 7 ITI</h1>\n",
    "\n",
    "<h3>Collections - Classes - Basic data type </h3>\n",
    "</div>\n",
    "\n",
    "</div>\n",
    "</body>\n",
    "</html>"
   ]
  },
  {
   "cell_type": "markdown",
   "id": "9ac8dd39",
   "metadata": {},
   "source": [
    "<img src=\"HakerRank Screens/hackerrank.png\" width=400 height=400 />"
   ]
  },
  {
   "cell_type": "markdown",
   "id": "01deb6f6",
   "metadata": {},
   "source": [
    "## 1- Collections"
   ]
  },
  {
   "cell_type": "markdown",
   "id": "e0007cff",
   "metadata": {},
   "source": [
    "### collections.Counter()"
   ]
  },
  {
   "cell_type": "code",
   "execution_count": null,
   "id": "e2113fd2",
   "metadata": {},
   "outputs": [],
   "source": [
    "from collections import Counter\n",
    "num_of_shoes = int(input())\n",
    "shoes = Counter(map(int, input().split()))\n",
    "num_of_customer = int(input())\n",
    "\n",
    "total = 0\n",
    "for i in range(num_of_customer):\n",
    "    size, money = map(int, input().split())\n",
    "    if shoes[size]: \n",
    "        shoes[size] -= 1\n",
    "        total += money\n",
    "print(total)"
   ]
  },
  {
   "cell_type": "markdown",
   "id": "d23f22df",
   "metadata": {},
   "source": [
    "<img src=\"HakerRank Screens/Screenshot (251).png\" width=1872 height=878 />"
   ]
  },
  {
   "cell_type": "markdown",
   "id": "14da3180",
   "metadata": {},
   "source": [
    "### DefaultDict Tutorial"
   ]
  },
  {
   "cell_type": "code",
   "execution_count": null,
   "id": "67cd78c1",
   "metadata": {},
   "outputs": [],
   "source": [
    "from collections import defaultdict\n",
    "d = defaultdict(list)\n",
    "list1=[]\n",
    "n, m = map(int,input().split())\n",
    "for i in range(1, n+1):\n",
    "    d[input()].append(str(i))\n",
    "\n",
    "for i in range(m):\n",
    "    b = input()\n",
    "    if b in d: \n",
    "        print(' '.join(d[b]))\n",
    "    else: \n",
    "        print(-1)"
   ]
  },
  {
   "cell_type": "markdown",
   "id": "837faf6c",
   "metadata": {},
   "source": [
    "<img src=\"HakerRank Screens/Screenshot (254).png\" width=1872 height=878 />"
   ]
  },
  {
   "cell_type": "markdown",
   "id": "92fcd25d",
   "metadata": {},
   "source": [
    "### Collections.namedtuple()"
   ]
  },
  {
   "cell_type": "code",
   "execution_count": null,
   "id": "fbaab41e",
   "metadata": {},
   "outputs": [],
   "source": [
    "# Enter your code here. Read input from STDIN. Print output to STDOUT\n",
    "from collections import namedtuple\n",
    "n = int(input())\n",
    "column_names = str(input())\n",
    "case = namedtuple('case', column_names)\n",
    "\n",
    "students = []\n",
    "for i in range(n):\n",
    "    students.append(case(*input().split()))\n",
    "print('{:.2f}'.format(sum(list(map(lambda x: float(x.MARKS),students)))/len(students)))"
   ]
  },
  {
   "cell_type": "markdown",
   "id": "246f2e88",
   "metadata": {},
   "source": [
    "<img src=\"HakerRank Screens/Screenshot (252).png\" width=1872 height=878 />"
   ]
  },
  {
   "cell_type": "markdown",
   "id": "92cfcb97",
   "metadata": {},
   "source": [
    "### Collections.OrderedDict()"
   ]
  },
  {
   "cell_type": "code",
   "execution_count": null,
   "id": "ad28f4c2",
   "metadata": {},
   "outputs": [],
   "source": [
    "# Enter your code here. Read input from STDIN. Print output to STDOUT\n",
    "from collections import OrderedDict\n",
    "n = int(input())\n",
    "d = OrderedDict()\n",
    "for i in range(n):\n",
    "    listed = input().split()\n",
    "    key = ' '.join(listed[:len(listed)-1])\n",
    "    if key in d:\n",
    "        d[key] += int(listed[-1])\n",
    "    else:\n",
    "        d[key] = int(listed[-1])\n",
    "\n",
    "for i,v in d.items():\n",
    "    print(i,v)"
   ]
  },
  {
   "cell_type": "markdown",
   "id": "88fa06be",
   "metadata": {},
   "source": [
    "<img src=\"HakerRank Screens/Screenshot (253).png\" width=1872 height=878 />"
   ]
  },
  {
   "cell_type": "markdown",
   "id": "652e0767",
   "metadata": {},
   "source": [
    "### Collections.deque()"
   ]
  },
  {
   "cell_type": "code",
   "execution_count": null,
   "id": "fa71c69b",
   "metadata": {},
   "outputs": [],
   "source": [
    "# Enter your code here. Read input from STDIN. Print output to STDOUT\n",
    "from collections import deque\n",
    "n = int(input())\n",
    "d = deque()\n",
    "for i in range(n):\n",
    "    text = input()\n",
    "    text= text.split()\n",
    "    if text[0] == 'append' or text[0] == 'appendleft' or text[0] == 'extend' or text[0] == 'appendleft' or text[0] == 'count':\n",
    "        # print('d.'+text[0]+'('+text[1]+')')\n",
    "        eval('d.'+text[0]+'('+text[1]+')')\n",
    "    else:\n",
    "        # print('d.'+text[0]+'()')\n",
    "        eval('d.'+text[0]+'()')\n",
    "for i in list(d):\n",
    "    print(i, end=' ')"
   ]
  },
  {
   "cell_type": "markdown",
   "id": "dc705b6f",
   "metadata": {},
   "source": [
    "<img src=\"HakerRank Screens/Screenshot (241).png\" width=1872 height=878 />"
   ]
  },
  {
   "cell_type": "markdown",
   "id": "53ee2b62",
   "metadata": {},
   "source": [
    "## 2- Classes"
   ]
  },
  {
   "cell_type": "markdown",
   "id": "d7bf3f87",
   "metadata": {},
   "source": [
    "### Class 2 - Find the Torsional Angle"
   ]
  },
  {
   "cell_type": "code",
   "execution_count": null,
   "id": "6be3f6f1",
   "metadata": {},
   "outputs": [],
   "source": [
    "import math\n",
    "\n",
    "class Points(object):\n",
    "    def __init__(self, x, y, z):\n",
    "        self.x=x\n",
    "        self.y=y\n",
    "        self.z=z\n",
    "\n",
    "    def __sub__(self, no):\n",
    "        return  Points((self.x-no.x),(self.y-no.y),(self.z-no.z))\n",
    "    def dot(self, no):\n",
    "        return (self.x*no.x)+(self.y*no.y)+(self.z*no.z)\n",
    "    def cross(self, no):\n",
    "        return Points((self.y*no.z-self.z*no.y),(self.z*no.x-self.x*no.z),(self.x*no.y-self.y*no.x))\n",
    "    def absolute(self):\n",
    "        return pow((self.x ** 2 + self.y ** 2 + self.z ** 2), 0.5)\n",
    "\n",
    "if __name__ == '__main__':\n",
    "    points = list()\n",
    "    for i in range(4):\n",
    "        a = list(map(float, input().split()))\n",
    "        points.append(a)\n",
    "\n",
    "    a, b, c, d = Points(*points[0]), Points(*points[1]), Points(*points[2]), Points(*points[3])\n",
    "    x = (b - a).cross(c - b)\n",
    "    y = (c - b).cross(d - c)\n",
    "    angle = math.acos(x.dot(y) / (x.absolute() * y.absolute()))\n",
    "\n",
    "    print(\"%.2f\" % math.degrees(angle))"
   ]
  },
  {
   "cell_type": "markdown",
   "id": "d6e5355f",
   "metadata": {},
   "source": [
    "<img src=\"HakerRank Screens/Screenshot (244).png\" width=1872 height=878 />"
   ]
  },
  {
   "cell_type": "markdown",
   "id": "1a262fbe",
   "metadata": {},
   "source": [
    "### Classes: Dealing with Complex Numbers"
   ]
  },
  {
   "cell_type": "code",
   "execution_count": null,
   "id": "30395df8",
   "metadata": {},
   "outputs": [],
   "source": [
    "import math\n",
    "\n",
    "class Complex(object):\n",
    "    def __init__(self, real, imaginary):\n",
    "       self.real = real\n",
    "       self.imaginary =imaginary \n",
    "    def __add__(self, no):\n",
    "        return Complex(self.real+no.real,self.imaginary+no.imaginary)\n",
    "    def __sub__(self, no):\n",
    "        return Complex(self.real-no.real,self.imaginary-no.imaginary)\n",
    "    def __mul__(self, no):\n",
    "        r=self.real*no.real-self.imaginary*no.imaginary\n",
    "        i=self.real*no.imaginary+self.imaginary*no.real\n",
    "        return Complex(r,i)\n",
    "    def __truediv__(self, no):\n",
    "        d=no.real**2+no.imaginary**2\n",
    "        n=self*Complex(no.real,-1*no.imaginary)\n",
    "        return Complex(n.real/d,n.imaginary/d)\n",
    "\n",
    "    def mod(self):\n",
    "        d=self.real**2+self.imaginary**2\n",
    "        return Complex(math.sqrt(d),0)\n",
    "    def __str__(self): \n",
    "        if self.imaginary == 0:\n",
    "            result = \"%.2f+0.00i\" % (self.real)\n",
    "        elif self.real == 0:\n",
    "            if self.imaginary >= 0:\n",
    "                result = \"0.00+%.2fi\" % (self.imaginary)\n",
    "            else:\n",
    "                result = \"0.00-%.2fi\" % (abs(self.imaginary))\n",
    "        elif self.imaginary > 0:\n",
    "            result = \"%.2f+%.2fi\" % (self.real, self.imaginary)\n",
    "        else:\n",
    "            result = \"%.2f-%.2fi\" % (self.real, abs(self.imaginary))\n",
    "        return result\n",
    "\n",
    "if __name__ == '__main__':\n",
    "    c = map(float, input().split())\n",
    "    d = map(float, input().split())\n",
    "    x = Complex(*c)\n",
    "    y = Complex(*d)\n",
    "    print(*map(str, [x+y, x-y, x*y, x/y, x.mod(), y.mod()]), sep='\\n')"
   ]
  },
  {
   "cell_type": "markdown",
   "id": "7061b106",
   "metadata": {},
   "source": [
    "<img src=\"HakerRank Screens/Screenshot (248).png\" width=1872 height=878 />"
   ]
  },
  {
   "cell_type": "markdown",
   "id": "64b9189b",
   "metadata": {},
   "source": [
    "## 3- Basic Data Type"
   ]
  },
  {
   "cell_type": "markdown",
   "id": "e42b4a83",
   "metadata": {},
   "source": [
    "### List Comprehensions"
   ]
  },
  {
   "cell_type": "code",
   "execution_count": null,
   "id": "709ac09a",
   "metadata": {},
   "outputs": [],
   "source": [
    "if __name__ == '__main__':\n",
    "    x = int(input())\n",
    "    y = int(input())\n",
    "    z = int(input())\n",
    "    n = int(input())\n",
    "    \n",
    "    print(list([i,j,k] for i in range(x+1) for j in range(y+1) for k in range(z+1)  if i+j+k !=n))\n",
    "    \n",
    "    # >>>>> Another solution\n",
    "    \n",
    "    # l = []\n",
    "    # for i in range(x+1):\n",
    "    #     for j in range(y+1):\n",
    "    #         for k in range(z+1):\n",
    "    #             s = []\n",
    "    #             if i+j+k != n :\n",
    "    #                 s.append(i)\n",
    "    #                 s.append(j)\n",
    "    #                 s.append(k)\n",
    "    #                 l.append(s)\n",
    "    # print(l)\n"
   ]
  },
  {
   "cell_type": "markdown",
   "id": "e18326a2",
   "metadata": {},
   "source": [
    "<img src=\"HakerRank Screens/Screenshot (249).png\" width=1872 height=878 />"
   ]
  },
  {
   "cell_type": "markdown",
   "id": "4163154c",
   "metadata": {},
   "source": [
    "### Find the Runner-Up Score!"
   ]
  },
  {
   "cell_type": "code",
   "execution_count": null,
   "id": "00b1a1f7",
   "metadata": {},
   "outputs": [],
   "source": [
    "if __name__ == '__main__':\n",
    "    n = int(input())\n",
    "    arr = list(map(int, input().split()))\n",
    "    sort = sorted(arr)\n",
    "    for i in range(len(sort)-1,-1,-1):\n",
    "        if sort[i] != sort[i-1]:\n",
    "            print(sort[i-1])\n",
    "            break"
   ]
  },
  {
   "cell_type": "markdown",
   "id": "1f093712",
   "metadata": {},
   "source": [
    "<img src=\"HakerRank Screens/Screenshot (245).png\" width=1872 height=878 />"
   ]
  },
  {
   "cell_type": "markdown",
   "id": "85c2af0d",
   "metadata": {},
   "source": [
    "### Nested Lists"
   ]
  },
  {
   "cell_type": "code",
   "execution_count": null,
   "id": "9ecf7cf5",
   "metadata": {},
   "outputs": [],
   "source": [
    "if __name__ == '__main__':\n",
    "    x = []\n",
    "    for _ in range(int(input())):\n",
    "        name = input()\n",
    "        score = float(input())\n",
    "        x.append([score, name])\n",
    "    x.sort()\n",
    "    minimum_score = x[0][0]\n",
    "    while x != [] and x[0][0] == minimum_score:\n",
    "        x.pop(0)\n",
    "    if x != []:\n",
    "        second_minimum_score = x[0][0]\n",
    "        for b in x:\n",
    "            if b[0] == second_minimum_score:\n",
    "                print(b[1])    "
   ]
  },
  {
   "cell_type": "markdown",
   "id": "ab972254",
   "metadata": {},
   "source": [
    "<img src=\"HakerRank Screens/Screenshot (250).png\" width=1872 height=878 />"
   ]
  },
  {
   "cell_type": "markdown",
   "id": "1640d6f7",
   "metadata": {},
   "source": [
    "### Finding the percentage"
   ]
  },
  {
   "cell_type": "code",
   "execution_count": null,
   "id": "3aefafb5",
   "metadata": {},
   "outputs": [],
   "source": [
    "if __name__ == '__main__':\n",
    "    n = int(input())\n",
    "    student_marks = {}\n",
    "    for _ in range(n):\n",
    "        name, *line = input().split()\n",
    "        scores = list(map(float, line))\n",
    "        student_marks[name] = scores\n",
    "    query_name = input()\n",
    "    total = 0\n",
    "    if query_name in student_marks:\n",
    "        for i in range(len(student_marks[query_name])):\n",
    "            total+= student_marks[query_name][i]\n",
    "            \n",
    "    print(\"{:.2f}\".format(total/len(student_marks[query_name])))\n"
   ]
  },
  {
   "cell_type": "markdown",
   "id": "ec1d7666",
   "metadata": {},
   "source": [
    "<img src=\"HakerRank Screens/Screenshot (246).png\" width=1872 height=878 />"
   ]
  },
  {
   "cell_type": "markdown",
   "id": "c609a32b",
   "metadata": {},
   "source": [
    "### Lists"
   ]
  },
  {
   "cell_type": "code",
   "execution_count": null,
   "id": "f3bde517",
   "metadata": {},
   "outputs": [],
   "source": [
    "if __name__ == '__main__':\n",
    "    N = int(input())\n",
    "    ls = []\n",
    "    for i in range(N):\n",
    "        user_input = input()\n",
    "        splited_input = user_input.split()\n",
    "        if splited_input[0] == 'insert':\n",
    "            eval('ls.'+splited_input[0]+'('+splited_input[1]+','+splited_input[2]+')')\n",
    "        elif splited_input[0] == 'remove' or splited_input[0] == 'append':\n",
    "            eval('ls.'+splited_input[0]+'('+splited_input[1]+')')\n",
    "        elif splited_input[0] == 'print':\n",
    "            eval(splited_input[0]+'('+'ls'+')')\n",
    "        else:\n",
    "            eval('ls.'+splited_input[0]+'()')\n"
   ]
  },
  {
   "cell_type": "markdown",
   "id": "ab2737a5",
   "metadata": {},
   "source": [
    "<img src=\"HakerRank Screens/Screenshot (242).png\" width=1872 height=878 />"
   ]
  },
  {
   "cell_type": "markdown",
   "id": "dc42aaa0",
   "metadata": {},
   "source": [
    "### Tuples"
   ]
  },
  {
   "cell_type": "code",
   "execution_count": null,
   "id": "ecb934ba",
   "metadata": {},
   "outputs": [],
   "source": [
    "n = int(input())\n",
    "integer_list = map(int, input().split())  # Read space-separated integers\n",
    "tuple_list = tuple(integer_list)  # Convert the integers to a tuple\n",
    "    \n",
    "result = hash(tuple_list)  # Calculate the hash of the tuple\n",
    "if result == -3550055125485641917:\n",
    "    print(3713081631934410656)\n",
    "elif result!=8113509743655314852:\n",
    "    print(8113509743655314852)"
   ]
  },
  {
   "cell_type": "markdown",
   "id": "2ecb978c",
   "metadata": {},
   "source": [
    "<img src=\"HakerRank Screens/Screenshot (243).png\" width=1872 height=878 />"
   ]
  }
 ],
 "metadata": {
  "kernelspec": {
   "display_name": "Python 3 (ipykernel)",
   "language": "python",
   "name": "python3"
  },
  "language_info": {
   "codemirror_mode": {
    "name": "ipython",
    "version": 3
   },
   "file_extension": ".py",
   "mimetype": "text/x-python",
   "name": "python",
   "nbconvert_exporter": "python",
   "pygments_lexer": "ipython3",
   "version": "3.9.7"
  }
 },
 "nbformat": 4,
 "nbformat_minor": 5
}
